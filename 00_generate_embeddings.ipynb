{
 "cells": [
  {
   "cell_type": "markdown",
   "metadata": {},
   "source": [
    "# 00_generate_embeddings\n",
    "\n",
    "Use this notebook to generate embeddings for your PDF. Sample embeddings for the BT_Core can be downloaded. See the README for more info.  \n",
    "\n",
    "Instructions: \n",
    "\n",
    "- See README for general setup (pip install), OpenAPI key setup. \n",
    "- Update the constants and parameters sections below then run the entire notebook. \n",
    "- Script will output an embeddings file (CSV) in the data directory "
   ]
  },
  {
   "cell_type": "markdown",
   "metadata": {},
   "source": [
    "## Constants and Parameters"
   ]
  },
  {
   "cell_type": "code",
   "execution_count": 17,
   "metadata": {},
   "outputs": [],
   "source": [
    "# User Parameters\n",
    "\n",
    "#INPUTS -----------------------\n",
    "\n",
    "# PDF file to use as input \n",
    "PDF_FILE = 'data/BT_Core_v5.4.mini.pdf'\n",
    "#PDF_FILE = 'data/BT_Core_v5.4.pdf'\n",
    "\n",
    "#OUTPUTS ----------------------\n",
    "\n",
    "# Name of your embeddings file \n",
    "EMBEDDINGS_FILE = 'data/BT_Core_v5.4.mini.embeddings.1page.csv'\n",
    "\n",
    "#PARAMETERS ----------------\n",
    "\n",
    "# GPT Model to use for chat generation\n",
    "GPT_MODEL = \"gpt-3.5-turbo\"\n",
    "#GPT_MODEL = \"gpt-4\"\n",
    "\n",
    "# Make sure you have the OPENAI_API_KEY environment variable set or set it here.\n",
    "import openai\n",
    "import os\n",
    "openai.api_key = os.environ[\"OPENAI_API_KEY\"]\n",
    "\n"
   ]
  },
  {
   "cell_type": "code",
   "execution_count": 18,
   "metadata": {},
   "outputs": [],
   "source": [
    "# Other globals and constants. Change them if you know what you are doing. \n",
    "import pandas as pd\n",
    "import tiktoken\n",
    "import matplotlib\n",
    "\n",
    "#Globals \n",
    "TEXT_EMBEDDING_ENGINE = 'text-embedding-ada-002';\n",
    "\n",
    "_encoder = tiktoken.get_encoding('cl100k_base')\n",
    "\n",
    "#Helper functions\n",
    "def get_token_count(text, encoder): \n",
    "    return len(encoder.encode(text))    \n",
    "\n"
   ]
  },
  {
   "cell_type": "markdown",
   "metadata": {},
   "source": [
    "## Preprocessing the PDF\n",
    "\n",
    "First, we extract raw text from the PDF. The output is a pandas data frame with the following columns:\n",
    "\n",
    "* text: The text extracted from a single page of PDF\n",
    "* page_number: The corresponding page number \n",
    "* n_tokens: The number of tokens corresponding to `text`\n",
    "\n",
    "We check `n_tokens` to make sure the pages do not reach the encoding API limits (~8K tokens)\n"
   ]
  },
  {
   "cell_type": "code",
   "execution_count": 19,
   "metadata": {},
   "outputs": [
    {
     "name": "stdout",
     "output_type": "stream",
     "text": [
      "Total number of tokens in the PDF:  12942\n"
     ]
    },
    {
     "data": {
      "image/png": "[encoded data removed]",
      "text/plain": [
       "<Figure size 640x480 with 1 Axes>"
      ]
     },
     "metadata": {},
     "output_type": "display_data"
    }
   ],
   "source": [
    "\n",
    "from pdfminer.high_level import extract_pages\n",
    "from pdfminer.layout import LTTextContainer\n",
    "\n",
    "def extract_pdf_to_dataframe(pdf_filename, max_num_pages=None):\n",
    "    # List to store extracted data\n",
    "    data = []\n",
    "    \n",
    "    # Extract pages from the PDF\n",
    "    for i, page_layout in enumerate(extract_pages(pdf_filename)):\n",
    "        # Check if we've reached the max_num_pages limit\n",
    "        if max_num_pages and i >= max_num_pages:\n",
    "            break\n",
    "        \n",
    "        # Extract text from the current page\n",
    "        text_content = \"\"\n",
    "        for element in page_layout:\n",
    "            if isinstance(element, LTTextContainer):\n",
    "                text_content += element.get_text()\n",
    "        \n",
    "        # Append the extracted text and page number to the data list\n",
    "        data.append({\n",
    "            'text': text_content.strip(),\n",
    "            'page_number': i + 1\n",
    "        })\n",
    "    \n",
    "    # Convert the data list to a pandas DataFrame\n",
    "    df = pd.DataFrame(data)\n",
    "    \n",
    "    return df\n",
    "\n",
    "#Extract PDF text data into a dataframe \n",
    "# Columns: \n",
    "#   'text' - text content of the page\n",
    "#`  'page_number' - page number of the page\n",
    "df = extract_pdf_to_dataframe(PDF_FILE)\n",
    "\n",
    "#update the dataframe with the number of tokens in each page\n",
    "df['n_tokens'] = df.text.apply(lambda x: len(_encoder.encode(x)))\n",
    "\n",
    "# Lets visualize the distribution of tokens per page.\n",
    "df.n_tokens.hist()\n",
    "\n",
    "print(\"Total number of tokens in the PDF: \", df.n_tokens.sum())\n",
    "\n",
    "df.to_csv(EMBEDDINGS_FILE, index=False)\n",
    "\n",
    "# TODO Potentially remove newlines from the text. Does this help?"
   ]
  },
  {
   "cell_type": "markdown",
   "metadata": {},
   "source": [
    "The histogram above shows the distribution of token counts across pages. There should be no (or very little) pages with a token count above ~8000, the maximum token count accepted by the Embeddings API call. "
   ]
  },
  {
   "cell_type": "markdown",
   "metadata": {},
   "source": [
    "## Call OpenAI API to get Embeddings\n",
    "Note:\n",
    "- 💸 This is charged against your Open API account (but it's a dirt-cheap API call) See total token count above if you want to estimate pricing. ([Pricing Page](https://openai.com/pricing))\n",
    "- ⏲️ This could be a long-running operation \n"
   ]
  },
  {
   "cell_type": "code",
   "execution_count": 20,
   "metadata": {},
   "outputs": [
    {
     "data": {
      "text/html": [
       "<div>\n",
       "<style scoped>\n",
       "    .dataframe tbody tr th:only-of-type {\n",
       "        vertical-align: middle;\n",
       "    }\n",
       "\n",
       "    .dataframe tbody tr th {\n",
       "        vertical-align: top;\n",
       "    }\n",
       "\n",
       "    .dataframe thead th {\n",
       "        text-align: right;\n",
       "    }\n",
       "</style>\n",
       "<table border=\"1\" class=\"dataframe\">\n",
       "  <thead>\n",
       "    <tr style=\"text-align: right;\">\n",
       "      <th></th>\n",
       "      <th>text</th>\n",
       "      <th>page_number</th>\n",
       "      <th>n_tokens</th>\n",
       "      <th>embeddings</th>\n",
       "    </tr>\n",
       "  </thead>\n",
       "  <tbody>\n",
       "    <tr>\n",
       "      <th>0</th>\n",
       "      <td>BLUETOOTH CORE SPECIFICATION Version 5.4 | Vol...</td>\n",
       "      <td>1</td>\n",
       "      <td>533</td>\n",
       "      <td>[-0.007918492890894413, 0.01967219077050686, -...</td>\n",
       "    </tr>\n",
       "    <tr>\n",
       "      <th>1</th>\n",
       "      <td>BLUETOOTH CORE SPECIFICATION Version 5.4 | Vol...</td>\n",
       "      <td>2</td>\n",
       "      <td>596</td>\n",
       "      <td>[0.00541232293471694, 0.018849696964025497, -0...</td>\n",
       "    </tr>\n",
       "    <tr>\n",
       "      <th>2</th>\n",
       "      <td>BLUETOOTH CORE SPECIFICATION Version 5.4 | Vol...</td>\n",
       "      <td>3</td>\n",
       "      <td>631</td>\n",
       "      <td>[-0.004995604511350393, 0.03512992709875107, 0...</td>\n",
       "    </tr>\n",
       "    <tr>\n",
       "      <th>3</th>\n",
       "      <td>BLUETOOTH CORE SPECIFICATION Version 5.4 | Vol...</td>\n",
       "      <td>4</td>\n",
       "      <td>763</td>\n",
       "      <td>[0.008840637281537056, 0.02655620500445366, -0...</td>\n",
       "    </tr>\n",
       "    <tr>\n",
       "      <th>4</th>\n",
       "      <td>BLUETOOTH CORE SPECIFICATION Version 5.4 | Vol...</td>\n",
       "      <td>5</td>\n",
       "      <td>900</td>\n",
       "      <td>[0.0009840211132541299, 0.017517348751425743, ...</td>\n",
       "    </tr>\n",
       "  </tbody>\n",
       "</table>\n",
       "</div>"
      ],
      "text/plain": [
       "                                                text  page_number  n_tokens  \\\n",
       "0  BLUETOOTH CORE SPECIFICATION Version 5.4 | Vol...            1       533   \n",
       "1  BLUETOOTH CORE SPECIFICATION Version 5.4 | Vol...            2       596   \n",
       "2  BLUETOOTH CORE SPECIFICATION Version 5.4 | Vol...            3       631   \n",
       "3  BLUETOOTH CORE SPECIFICATION Version 5.4 | Vol...            4       763   \n",
       "4  BLUETOOTH CORE SPECIFICATION Version 5.4 | Vol...            5       900   \n",
       "\n",
       "                                          embeddings  \n",
       "0  [-0.007918492890894413, 0.01967219077050686, -...  \n",
       "1  [0.00541232293471694, 0.018849696964025497, -0...  \n",
       "2  [-0.004995604511350393, 0.03512992709875107, 0...  \n",
       "3  [0.008840637281537056, 0.02655620500445366, -0...  \n",
       "4  [0.0009840211132541299, 0.017517348751425743, ...  "
      ]
     },
     "execution_count": 20,
     "metadata": {},
     "output_type": "execute_result"
    }
   ],
   "source": [
    "#Call OpenAI API to get embeddings for each page, saves to 'df' and to CSV\n",
    "\n",
    "# Check if 'df' exists in the global namespace\n",
    "if 'df' not in globals():\n",
    "    df = pd.read_csv(EMBEDDINGS_FILE, index_col=0)\n",
    "\n",
    "# Call OpenAI API to get embeddings for each page.\n",
    "df['embeddings'] = df.text.apply(lambda x: openai.Embedding.create(input=x, engine=TEXT_EMBEDDING_ENGINE)['data'][0]['embedding'])\n",
    "df.to_csv(EMBEDDINGS_FILE, index=False)\n",
    "df.head()"
   ]
  },
  {
   "cell_type": "code",
   "execution_count": 21,
   "metadata": {},
   "outputs": [],
   "source": [
    "#Loads embeddings from CSV file into a dataframe, transforms 'df' so that embeddings column is a numpy array\n",
    "import numpy as np\n",
    "from openai.embeddings_utils import distances_from_embeddings\n",
    "\n",
    "df = pd.read_csv(EMBEDDINGS_FILE)\n",
    "\n",
    "#Turn embedding into a numpy array, makes it easier to work with later\n",
    "df['embeddings'] = df['embeddings'].apply(eval).apply(np.array)"
   ]
  },
  {
   "cell_type": "markdown",
   "metadata": {},
   "source": [
    "Ok that's it! You have created an embedding file named according to the EMBEDDINGS_FILE variable above. Go to 01_ask_questions.ipynb for the next step."
   ]
  }
 ],
 "metadata": {
  "kernelspec": {
   "display_name": "env",
   "language": "python",
   "name": "python3"
  },
  "language_info": {
   "codemirror_mode": {
    "name": "ipython",
    "version": 3
   },
   "file_extension": ".py",
   "mimetype": "text/x-python",
   "name": "python",
   "nbconvert_exporter": "python",
   "pygments_lexer": "ipython3",
   "version": "3.9.12"
  },
  "orig_nbformat": 4
 },
 "nbformat": 4,
 "nbformat_minor": 2
}
